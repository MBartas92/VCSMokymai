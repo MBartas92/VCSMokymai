{
 "cells": [
  {
   "cell_type": "code",
   "execution_count": 3,
   "metadata": {},
   "outputs": [
    {
     "name": "stdout",
     "output_type": "stream",
     "text": [
      "range(0, 10)\n",
      "<class 'range'>\n",
      "[0, 1, 2, 3, 4, 5, 6, 7, 8, 9]\n",
      "[0, 1, 2, 3, 4, 5, 6, 7, 8, 9, 10, 11, 12, 13, 14]\n",
      "[7, 8, 9, 10, 11, 12, 13, 14]\n",
      "[11, 14, 17, 20, 23, 26]\n",
      "[59, 56, 53, 50, 47, 44, 41, 38, 35, 32, 29]\n"
     ]
    }
   ],
   "source": [
    "#ranges\n",
    "\n",
    "print(range(10))\n",
    "print(type(range(10)))\n",
    "print(list(range(10)))\n",
    "print(list(range(15)))\n",
    "print(list(range(7,15)))\n",
    "\n",
    "#range (start, end, step)\n",
    "\n",
    "print(list(range(11,27,3)))\n",
    "print(list(range(59,27,-3)))"
   ]
  },
  {
   "cell_type": "code",
   "execution_count": 5,
   "metadata": {},
   "outputs": [
    {
     "name": "stdout",
     "output_type": "stream",
     "text": [
      "for loops starts from here\n",
      "__________________________\n"
     ]
    }
   ],
   "source": [
    "# for loops\n",
    "print('for loops starts from here')\n",
    "print('__________________________')\n"
   ]
  },
  {
   "cell_type": "code",
   "execution_count": 10,
   "metadata": {},
   "outputs": [
    {
     "name": "stdout",
     "output_type": "stream",
     "text": [
      "Vilnius is a beautiful city\n",
      "this is still in loop\n",
      "London is a beautiful city\n",
      "this is still in loop\n",
      "Kaunas is a beautiful city\n",
      "this is still in loop\n",
      "end of loop\n"
     ]
    }
   ],
   "source": [
    "cities = ['Vilnius', 'London', 'Kaunas']\n",
    "\n",
    "for city in cities:\n",
    "    print(f'{city} is a beautiful city')\n",
    "    print('this is still in loop')\n",
    "print('end of loop')\n"
   ]
  },
  {
   "cell_type": "code",
   "execution_count": 13,
   "metadata": {},
   "outputs": [
    {
     "name": "stdout",
     "output_type": "stream",
     "text": [
      "4\n",
      "11\n",
      "18\n",
      "end of loop\n"
     ]
    }
   ],
   "source": [
    "for number in range(4,23,7):\n",
    "    print(number)\n",
    "print('end of loop')"
   ]
  },
  {
   "cell_type": "code",
   "execution_count": 14,
   "metadata": {},
   "outputs": [
    {
     "name": "stdout",
     "output_type": "stream",
     "text": [
      "0\n",
      "1\n",
      "2\n",
      "3\n",
      "4\n",
      "5\n",
      "6\n",
      "7\n",
      "8\n",
      "9\n",
      "10\n"
     ]
    }
   ],
   "source": [
    "for number in range(11):\n",
    "    print(number)"
   ]
  },
  {
   "cell_type": "code",
   "execution_count": 17,
   "metadata": {},
   "outputs": [
    {
     "name": "stdout",
     "output_type": "stream",
     "text": [
      "intermiadate result: 0\n",
      "intermiadate result: 1\n",
      "intermiadate result: 3\n",
      "intermiadate result: 6\n",
      "intermiadate result: 10\n",
      "intermiadate result: 15\n",
      "intermiadate result: 21\n",
      "intermiadate result: 28\n",
      "intermiadate result: 36\n",
      "intermiadate result: 45\n",
      "intermiadate result: 55\n",
      "intermiadate result: 66\n",
      "intermiadate result: 78\n",
      "intermiadate result: 91\n",
      "intermiadate result: 105\n",
      "intermiadate result: 120\n",
      "intermiadate result: 136\n",
      "intermiadate result: 153\n",
      "intermiadate result: 171\n",
      "intermiadate result: 190\n",
      "intermiadate result: 210\n",
      "intermiadate result: 231\n",
      "intermiadate result: 253\n",
      "intermiadate result: 276\n",
      "intermiadate result: 300\n",
      "intermiadate result: 325\n",
      "intermiadate result: 351\n",
      "intermiadate result: 378\n",
      "intermiadate result: 406\n",
      "intermiadate result: 435\n",
      "intermiadate result: 465\n",
      "intermiadate result: 496\n",
      "intermiadate result: 528\n",
      "intermiadate result: 561\n",
      "intermiadate result: 595\n",
      "intermiadate result: 630\n",
      "intermiadate result: 666\n",
      "intermiadate result: 703\n",
      "intermiadate result: 741\n",
      "intermiadate result: 780\n",
      "intermiadate result: 820\n",
      "intermiadate result: 861\n",
      "intermiadate result: 903\n",
      "intermiadate result: 946\n",
      "intermiadate result: 990\n",
      "intermiadate result: 1035\n",
      "intermiadate result: 1081\n",
      "intermiadate result: 1128\n",
      "intermiadate result: 1176\n",
      "intermiadate result: 1225\n",
      "intermiadate result: 1275\n",
      "end of loop - result is 1275\n"
     ]
    }
   ],
   "source": [
    "result = 0\n",
    "for number in range(51):\n",
    "    result += number\n",
    "    print(f'intermiadate result: {result}')\n",
    "print(f'end of loop - result is {result}')"
   ]
  },
  {
   "cell_type": "code",
   "execution_count": 22,
   "metadata": {},
   "outputs": [
    {
     "name": "stdout",
     "output_type": "stream",
     "text": [
      "15\n",
      "15x1 = 15\n",
      "15x2 = 30\n",
      "15x3 = 45\n",
      "15x4 = 60\n",
      "15x5 = 75\n",
      "15x6 = 90\n",
      "15x7 = 105\n",
      "15x8 = 120\n",
      "15x9 = 135\n",
      "15x10 = 150\n"
     ]
    }
   ],
   "source": [
    "userInput = input('enter a number:')\n",
    "userNumber = int(userInput)\n",
    "print(userNumber)\n",
    "\n",
    "for number in range(1,11):\n",
    "    print(f'{userNumber}x{number} = {userNumber * number}')"
   ]
  },
  {
   "cell_type": "code",
   "execution_count": 28,
   "metadata": {},
   "outputs": [
    {
     "name": "stdout",
     "output_type": "stream",
     "text": [
      "['Monday 10', 'Monday 11', 'Monday 12', 'Monday 13', 'Monday 14', 'Monday 15', 'Monday 16', 'Monday 17', 'Monday 18', 'Monday 19', 'Tuesday 10', 'Tuesday 11', 'Tuesday 12', 'Tuesday 13', 'Tuesday 14', 'Tuesday 15', 'Tuesday 16', 'Tuesday 17', 'Tuesday 18', 'Tuesday 19', 'Wednesday 10', 'Wednesday 11', 'Wednesday 12', 'Wednesday 13', 'Wednesday 14', 'Wednesday 15', 'Wednesday 16', 'Wednesday 17', 'Wednesday 18', 'Wednesday 19', 'Thursday 10', 'Thursday 11', 'Thursday 12', 'Thursday 13', 'Thursday 14', 'Thursday 15', 'Thursday 16', 'Thursday 17', 'Thursday 18', 'Thursday 19', 'Friday 10', 'Friday 11', 'Friday 12', 'Friday 13', 'Friday 14', 'Friday 15', 'Friday 16', 'Friday 17', 'Friday 18', 'Friday 19', 'Saturday 10', 'Saturday 11', 'Saturday 12', 'Saturday 13', 'Saturday 14', 'Saturday 15', 'Saturday 16', 'Saturday 17', 'Saturday 18', 'Saturday 19', 'Sunday 10', 'Sunday 11', 'Sunday 12', 'Sunday 13', 'Sunday 14', 'Sunday 15', 'Sunday 16', 'Sunday 17', 'Sunday 18', 'Sunday 19']\n",
      "70\n"
     ]
    }
   ],
   "source": [
    "days = ('Monday', 'Tuesday', 'Wednesday', 'Thursday', 'Friday', 'Saturday' , 'Sunday')\n",
    "hours = [10, 11, 12, 13, 14, 15, 16, 17, 18, 19]\n",
    "newList = [] #empty list\n",
    "\n",
    "for day in days:\n",
    "    #print(day)\n",
    "    for hour in hours:\n",
    "        #print(hour)\n",
    "        #newList.append (f'{day} {hour}')\n",
    "        newList.append((day, hour))\n",
    "print(newList)\n",
    "print(len(newList))\n",
    " "
   ]
  },
  {
   "cell_type": "code",
   "execution_count": 38,
   "metadata": {},
   "outputs": [
    {
     "name": "stdout",
     "output_type": "stream",
     "text": [
      "value is equal to 5\n"
     ]
    }
   ],
   "source": [
    "#if declaration\n",
    "\n",
    "x = 5\n",
    "\n",
    "if x >5:\n",
    "    print('value is more than 5')\n",
    "elif x ==5:\n",
    "    print('value is equal to 5')\n",
    "else:\n",
    "    print('value is less than 5')"
   ]
  }
 ],
 "metadata": {
  "kernelspec": {
   "display_name": "Python 3.10.5 64-bit",
   "language": "python",
   "name": "python3"
  },
  "language_info": {
   "codemirror_mode": {
    "name": "ipython",
    "version": 3
   },
   "file_extension": ".py",
   "mimetype": "text/x-python",
   "name": "python",
   "nbconvert_exporter": "python",
   "pygments_lexer": "ipython3",
   "version": "3.10.5"
  },
  "orig_nbformat": 4,
  "vscode": {
   "interpreter": {
    "hash": "032f0e4efc452434e04ed4ab901fe146e33f1e5aa5f196ff33c5d5c21b80041c"
   }
  }
 },
 "nbformat": 4,
 "nbformat_minor": 2
}
