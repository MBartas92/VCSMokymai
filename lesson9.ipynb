{
 "cells": [
  {
   "cell_type": "code",
   "execution_count": 4,
   "metadata": {},
   "outputs": [
    {
     "name": "stdout",
     "output_type": "stream",
     "text": [
      "h\n",
      "hel\n",
      "helloWorld\n",
      "hellohello\n"
     ]
    },
    {
     "data": {
      "text/plain": [
       "['num1', 'num2', 'num3']"
      ]
     },
     "execution_count": 4,
     "metadata": {},
     "output_type": "execute_result"
    }
   ],
   "source": [
    "#Strings\n",
    "\n",
    "myString = \"hello\" # 'hello', '''hello'''\n",
    "print(myString[0])\n",
    "print(myString[0:3])\n",
    "print(myString + 'World')\n",
    "print(myString * 2)\n",
    "myString2 = \"num1|num2|num3\"\n",
    "myString2.split('|')\n"
   ]
  },
  {
   "cell_type": "code",
   "execution_count": 12,
   "metadata": {},
   "outputs": [
    {
     "name": "stdout",
     "output_type": "stream",
     "text": [
      "5\n",
      "6\n",
      "1\n",
      "0\n",
      "2\n",
      "True\n",
      "False\n",
      "True\n"
     ]
    }
   ],
   "source": [
    "#numbers, booleans\n",
    "\n",
    "number = 1\n",
    "number2 = int('5')\n",
    "print(number2)\n",
    "print(number2+ number)\n",
    "\n",
    "print(11 % 2)\n",
    "print(72 % 3)\n",
    "\n",
    "mySum = 0 \n",
    "mySum += 1 \n",
    "mySum += 1 \n",
    "\n",
    "print(mySum)\n",
    "\n",
    "\n",
    "print(bool(5))\n",
    "print(bool(0))\n",
    "print(bool(00.000001))"
   ]
  },
  {
   "cell_type": "code",
   "execution_count": 17,
   "metadata": {},
   "outputs": [
    {
     "name": "stdout",
     "output_type": "stream",
     "text": [
      "hello\n",
      "['hello', 125, True]\n",
      "4\n",
      "['hello', 125, True, ['1', '21'], 50]\n",
      "['hello', 125, True, ['1', '21'], 50]\n",
      "mutable list ['hello', 125, True, ['1', '21'], 50, 100]\n",
      "normal list ['hello', 125, True, ['1', '21'], 50, 100]\n"
     ]
    }
   ],
   "source": [
    "#list\n",
    "\n",
    "myList = ['hello', 125, True, ['1', '21']]\n",
    "print(myList[0])\n",
    "print(myList[0:3])\n",
    "print(len(myList))\n",
    "\n",
    "myList.append(50)\n",
    "print(myList)\n",
    "\n",
    "mutableList= myList\n",
    "print(mutableList)\n",
    "mutableList.append(100)\n",
    "print('mutable list', mutableList)\n",
    "print('normal list', myList)"
   ]
  },
  {
   "cell_type": "code",
   "execution_count": 19,
   "metadata": {},
   "outputs": [
    {
     "name": "stdout",
     "output_type": "stream",
     "text": [
      "<class 'list'>\n",
      "[1, 3]\n",
      "<class 'tuple'>\n",
      "((1, 'monday'), (3, 'wednesday'))\n",
      "<class 'dict'>\n",
      "{1: 'monday', 3: 'wednesday'}\n",
      "<class 'set'>\n",
      "{(1, 'monday'), (3, 'wednesday')}\n"
     ]
    }
   ],
   "source": [
    "#list comprehension\n",
    "\n",
    "myList = [i for i, text in enumerate(['monday', 'tuesday', 'wednesday'], start=1) if i % 2 !=0 ]\n",
    "print(type(myList))\n",
    "print(myList)\n",
    "\n",
    "myTuple = tuple((i,day) for i, day in enumerate(['monday', 'tuesday', 'wednesday'], start=1) if i % 2 !=0 )\n",
    "print(type(myTuple))\n",
    "print(myTuple)\n",
    "\n",
    "myDict = {i:day for i, day in enumerate(['monday', 'tuesday', 'wednesday'], start=1) if i % 2 !=0 }\n",
    "print(type(myDict))\n",
    "print(myDict)\n",
    "\n",
    "mySet = {(i,day) for i, day in enumerate(['monday', 'tuesday', 'wednesday'], start=1) if i % 2 !=0 }\n",
    "print(type(mySet))\n",
    "print(mySet)\n"
   ]
  },
  {
   "cell_type": "code",
   "execution_count": null,
   "metadata": {},
   "outputs": [],
   "source": []
  }
 ],
 "metadata": {
  "kernelspec": {
   "display_name": "Python 3.10.5 64-bit",
   "language": "python",
   "name": "python3"
  },
  "language_info": {
   "codemirror_mode": {
    "name": "ipython",
    "version": 3
   },
   "file_extension": ".py",
   "mimetype": "text/x-python",
   "name": "python",
   "nbconvert_exporter": "python",
   "pygments_lexer": "ipython3",
   "version": "3.10.5"
  },
  "orig_nbformat": 4,
  "vscode": {
   "interpreter": {
    "hash": "032f0e4efc452434e04ed4ab901fe146e33f1e5aa5f196ff33c5d5c21b80041c"
   }
  }
 },
 "nbformat": 4,
 "nbformat_minor": 2
}
